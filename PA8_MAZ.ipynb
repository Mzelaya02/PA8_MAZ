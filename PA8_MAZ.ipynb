{
 "cells": [
  {
   "cell_type": "markdown",
   "id": "7a8a61c3",
   "metadata": {},
   "source": [
    "# Computer Programming For the Liberal Arts"
   ]
  },
  {
   "cell_type": "markdown",
   "id": "713f4e05",
   "metadata": {},
   "source": [
    "## Michael Zelaya"
   ]
  },
  {
   "cell_type": "markdown",
   "id": "8566c05b",
   "metadata": {},
   "source": [
    "## Programming Assignment 8 (Version 8)"
   ]
  },
  {
   "cell_type": "markdown",
   "id": "6349ddb9",
   "metadata": {},
   "source": [
    "## Spring 2023"
   ]
  },
  {
   "cell_type": "markdown",
   "id": "4d54871c",
   "metadata": {},
   "source": [
    "### A)"
   ]
  },
  {
   "cell_type": "code",
   "execution_count": 1,
   "id": "de00a99a",
   "metadata": {},
   "outputs": [
    {
     "data": {
      "text/plain": [
       "array([[10, 20],\n",
       "       [30, 40]])"
      ]
     },
     "execution_count": 1,
     "metadata": {},
     "output_type": "execute_result"
    }
   ],
   "source": [
    "import numpy as np\n",
    "x= [10,20,30,40]\n",
    "x1= np.array(x)\n",
    "x1.resize(2,2)\n",
    "x1"
   ]
  },
  {
   "cell_type": "code",
   "execution_count": 2,
   "id": "f9286c9c",
   "metadata": {},
   "outputs": [
    {
     "data": {
      "text/plain": [
       "array([[110, 120],\n",
       "       [130, 140]])"
      ]
     },
     "execution_count": 2,
     "metadata": {},
     "output_type": "execute_result"
    }
   ],
   "source": [
    "x2= np.add(x1,100)\n",
    "x2"
   ]
  },
  {
   "cell_type": "code",
   "execution_count": 3,
   "id": "4939713d",
   "metadata": {},
   "outputs": [
    {
     "data": {
      "text/plain": [
       "array([[ 50, 100],\n",
       "       [150, 200]])"
      ]
     },
     "execution_count": 3,
     "metadata": {},
     "output_type": "execute_result"
    }
   ],
   "source": [
    "x3= np.multiply(x1,5)\n",
    "x3"
   ]
  },
  {
   "cell_type": "code",
   "execution_count": 4,
   "id": "52069089",
   "metadata": {},
   "outputs": [
    {
     "data": {
      "text/plain": [
       "array([[3.16227766, 4.47213595],\n",
       "       [5.47722558, 6.32455532]])"
      ]
     },
     "execution_count": 4,
     "metadata": {},
     "output_type": "execute_result"
    }
   ],
   "source": [
    "x4= np.sqrt(x1)\n",
    "x4"
   ]
  },
  {
   "cell_type": "markdown",
   "id": "5c467e5a",
   "metadata": {},
   "source": [
    "### B)"
   ]
  },
  {
   "cell_type": "code",
   "execution_count": 6,
   "id": "006c200f",
   "metadata": {},
   "outputs": [
    {
     "name": "stdout",
     "output_type": "stream",
     "text": [
      "[[ 3  6  9]\n",
      " [12 15 18]\n",
      " [21 24 27]]\n",
      "[[10.         11.11111111 12.22222222]\n",
      " [13.33333333 14.44444444 15.55555556]\n",
      " [16.66666667 17.77777778 18.88888889]]\n",
      "[[ 30.          66.66666667 110.        ]\n",
      " [160.         216.66666667 280.        ]\n",
      " [350.         426.66666667 510.        ]]\n"
     ]
    }
   ],
   "source": [
    "x6= np.arange(3,30,3)\n",
    "x6.resize(3,3)\n",
    "print(x6)\n",
    "\n",
    "x7= np.arange(10,20,10/9)\n",
    "x7.resize(3,3)\n",
    "print(x7)\n",
    "\n",
    "x8=np.multiply(x6,x7)\n",
    "print(x8)"
   ]
  },
  {
   "cell_type": "markdown",
   "id": "f601764d",
   "metadata": {},
   "source": [
    "### C)"
   ]
  },
  {
   "cell_type": "code",
   "execution_count": 7,
   "id": "5bd834b4",
   "metadata": {},
   "outputs": [],
   "source": [
    "x01=np.load('process1.npy')\n",
    "x02=np.load('process2.npy')\n",
    "x03=np.load('process3.npy')\n",
    "x04=np.load('process4.npy')\n",
    "x05=np.load('process5.npy')"
   ]
  },
  {
   "cell_type": "code",
   "execution_count": 8,
   "id": "e5a1ff04",
   "metadata": {},
   "outputs": [],
   "source": [
    "array_1=np.vstack([x01,x02,x03,x04,x05])"
   ]
  },
  {
   "cell_type": "code",
   "execution_count": 10,
   "id": "3893b8b1",
   "metadata": {},
   "outputs": [
    {
     "name": "stdout",
     "output_type": "stream",
     "text": [
      "[[52 12 81  0 58]\n",
      " [96  4 61 16 43]\n",
      " [38 96 45 17 58]\n",
      " [97 21 22 25  6]\n",
      " [77  6 19  2 74]]\n",
      "72.0\n",
      "27.8\n",
      "45.6\n",
      "12.0\n",
      "47.8\n"
     ]
    }
   ],
   "source": [
    "print(array_1)\n",
    "a,b,c,d,e=np.hsplit(array_1,5)\n",
    "print(a.mean())\n",
    "print(b.mean())\n",
    "print(c.mean())\n",
    "print(d.mean())\n",
    "print(e.mean())"
   ]
  }
 ],
 "metadata": {
  "kernelspec": {
   "display_name": "Python 3 (ipykernel)",
   "language": "python",
   "name": "python3"
  },
  "language_info": {
   "codemirror_mode": {
    "name": "ipython",
    "version": 3
   },
   "file_extension": ".py",
   "mimetype": "text/x-python",
   "name": "python",
   "nbconvert_exporter": "python",
   "pygments_lexer": "ipython3",
   "version": "3.9.13"
  }
 },
 "nbformat": 4,
 "nbformat_minor": 5
}
